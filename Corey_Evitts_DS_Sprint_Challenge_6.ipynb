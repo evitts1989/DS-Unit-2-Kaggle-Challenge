{
  "nbformat": 4,
  "nbformat_minor": 0,
  "metadata": {
    "colab": {
      "name": "Corey Evitts DS_Sprint_Challenge_6.ipynb",
      "provenance": [],
      "collapsed_sections": [],
      "include_colab_link": true
    },
    "kernelspec": {
      "display_name": "Python 3",
      "language": "python",
      "name": "python3"
    },
    "language_info": {
      "codemirror_mode": {
        "name": "ipython",
        "version": 3
      },
      "file_extension": ".py",
      "mimetype": "text/x-python",
      "name": "python",
      "nbconvert_exporter": "python",
      "pygments_lexer": "ipython3",
      "version": "3.7.3"
    }
  },
  "cells": [
    {
      "cell_type": "markdown",
      "metadata": {
        "id": "view-in-github",
        "colab_type": "text"
      },
      "source": [
        "<a href=\"https://colab.research.google.com/github/evitts1989/DS-Unit-2-Kaggle-Challenge/blob/master/Corey_Evitts_DS_Sprint_Challenge_6.ipynb\" target=\"_parent\"><img src=\"https://colab.research.google.com/assets/colab-badge.svg\" alt=\"Open In Colab\"/></a>"
      ]
    },
    {
      "cell_type": "markdown",
      "metadata": {
        "colab_type": "text",
        "id": "M3XH_XLsy_Bn"
      },
      "source": [
        "_Lambda School Data Science, Unit 2_\n",
        " \n",
        "# Sprint Challenge: Predict Steph Curry's shots 🏀\n",
        "\n",
        "For your Sprint Challenge, you'll use a dataset with all Steph Curry's NBA field goal attempts. (Regular season and playoff games, from October 28, 2009, through June 5, 2019.) \n",
        "\n",
        "You'll predict whether each shot was made, using information about the shot and the game. This is hard to predict! Try to get above 60% accuracy. The dataset was collected with the [nba_api](https://github.com/swar/nba_api) Python library."
      ]
    },
    {
      "cell_type": "code",
      "metadata": {
        "colab_type": "code",
        "id": "Nw3CL7TE7tNq",
        "colab": {}
      },
      "source": [
        "%%capture\n",
        "import sys\n",
        "\n",
        "if 'google.colab' in sys.modules:\n",
        "    # Install packages in Colab\n",
        "    !pip install category_encoders==2.*\n",
        "    !pip install pandas-profiling==2.*"
      ],
      "execution_count": 0,
      "outputs": []
    },
    {
      "cell_type": "code",
      "metadata": {
        "colab_type": "code",
        "id": "-Nm24pCHy_Bo",
        "colab": {}
      },
      "source": [
        "# Read data\n",
        "import pandas as pd\n",
        "url = 'https://drive.google.com/uc?export=download&id=1fL7KPyxgGYfQDsuJoBWHIWwCAf-HTFpX'\n",
        "df = pd.read_csv(url)\n",
        "\n",
        "# Check data shape\n",
        "assert df.shape == (13958, 20)"
      ],
      "execution_count": 0,
      "outputs": []
    },
    {
      "cell_type": "markdown",
      "metadata": {
        "colab_type": "text",
        "id": "B8BvDKLFy_Bq"
      },
      "source": [
        "To demonstrate mastery on your Sprint Challenge, do all the required, numbered instructions in this notebook.\n",
        "\n",
        "To earn a score of \"3\", also do all the stretch goals.\n",
        "\n",
        "You are permitted and encouraged to do as much data exploration as you want.\n",
        "\n",
        "**1. Begin with baselines for classification.** Your target to predict is `shot_made_flag`. What is your baseline accuracy, if you guessed the majority class for every prediction?\n",
        "\n",
        "**2. Hold out your test set.** Use the 2018-19 season to test. NBA seasons begin in October and end in June. You'll know you've split the data correctly when your test set has 1,709 observations.\n",
        "\n",
        "**3. Engineer new feature.** Engineer at least **1** new feature, from this list, or your own idea.\n",
        "- **Homecourt Advantage**: Is the home team (`htm`) the Golden State Warriors (`GSW`) ?\n",
        "- **Opponent**: Who is the other team playing the Golden State Warriors?\n",
        "- **Seconds remaining in the period**: Combine minutes remaining with seconds remaining, to get the total number of seconds remaining in the period.\n",
        "- **Seconds remaining in the game**: Combine period, and seconds remaining in the period, to get the total number of seconds remaining in the game. A basketball game has 4 periods, each 12 minutes long.\n",
        "- **Made previous shot**: Was Steph Curry's previous shot successful?\n",
        "\n",
        "**4. Decide how to validate** your model. Choose one of the following options. Any of these options are good. You are not graded on which you choose.\n",
        "- **Train/validate/test split: train on the 2009-10 season through 2016-17 season, validate with the 2017-18 season.** You'll know you've split the data correctly when your train set has 11,081 observations, and your validation set has 1,168 observations.\n",
        "- **Train/validate/test split: random 80/20%** train/validate split.\n",
        "- **Cross-validation** with independent test set. You may use any scikit-learn cross-validation method.\n",
        "\n",
        "**5.** Use a scikit-learn **pipeline** to **encode categoricals** and fit a **Decision Tree** or **Random Forest** model.\n",
        "\n",
        "**6.** Get your model's **validation accuracy.** (Multiple times if you try multiple iterations.) \n",
        "\n",
        "**7.** Get your model's **test accuracy.** (One time, at the end.)\n",
        "\n",
        "\n",
        "**8.** Given a **confusion matrix** for a hypothetical binary classification model, **calculate accuracy, precision, and recall.**\n",
        "\n",
        "### Stretch Goals\n",
        "- Engineer 4+ new features total, either from the list above, or your own ideas.\n",
        "- Make 2+ visualizations to explore relationships between features and target.\n",
        "- Optimize 3+ hyperparameters by trying 10+ \"candidates\" (possible combinations of hyperparameters). You can use `RandomizedSearchCV` or do it manually.\n",
        "- Get and plot your model's feature importances.\n",
        "\n"
      ]
    },
    {
      "cell_type": "markdown",
      "metadata": {
        "colab_type": "text",
        "id": "t6Jt3qjQ-zig"
      },
      "source": [
        "## 1. Begin with baselines for classification. \n",
        "\n",
        ">Your target to predict is `shot_made_flag`. What would your baseline accuracy be, if you guessed the majority class for every prediction?"
      ]
    },
    {
      "cell_type": "code",
      "metadata": {
        "colab_type": "code",
        "id": "I0BDeNFG_Kee",
        "outputId": "29cc342e-b8a6-4d5a-a06f-e7c26909865f",
        "colab": {
          "base_uri": "https://localhost:8080/",
          "height": 170
        }
      },
      "source": [
        "df.shot_made_flag.describe()"
      ],
      "execution_count": 0,
      "outputs": [
        {
          "output_type": "execute_result",
          "data": {
            "text/plain": [
              "count    13958.000000\n",
              "mean         0.472919\n",
              "std          0.499284\n",
              "min          0.000000\n",
              "25%          0.000000\n",
              "50%          0.000000\n",
              "75%          1.000000\n",
              "max          1.000000\n",
              "Name: shot_made_flag, dtype: float64"
            ]
          },
          "metadata": {
            "tags": []
          },
          "execution_count": 52
        }
      ]
    },
    {
      "cell_type": "code",
      "metadata": {
        "id": "FDJZhAIXgyfE",
        "colab_type": "code",
        "outputId": "62b0146b-5597-4adf-e922-64df1d7199ef",
        "colab": {
          "base_uri": "https://localhost:8080/",
          "height": 68
        }
      },
      "source": [
        "df.shot_made_flag.value_counts(normalize=True)"
      ],
      "execution_count": 0,
      "outputs": [
        {
          "output_type": "execute_result",
          "data": {
            "text/plain": [
              "0    0.527081\n",
              "1    0.472919\n",
              "Name: shot_made_flag, dtype: float64"
            ]
          },
          "metadata": {
            "tags": []
          },
          "execution_count": 53
        }
      ]
    },
    {
      "cell_type": "code",
      "metadata": {
        "id": "y20iWE8Bg6FH",
        "colab_type": "code",
        "outputId": "2998ae30-ca8f-4a11-bb2a-76a549ab52f1",
        "colab": {
          "base_uri": "https://localhost:8080/",
          "height": 34
        }
      },
      "source": [
        "y_train=df['shot_made_flag']\n",
        "\n",
        "majority_class = y_train.mode()[0]\n",
        "y_pred = [majority_class] * len(y_train)\n",
        "print(len(y_pred))"
      ],
      "execution_count": 0,
      "outputs": [
        {
          "output_type": "stream",
          "text": [
            "13958\n"
          ],
          "name": "stdout"
        }
      ]
    },
    {
      "cell_type": "code",
      "metadata": {
        "id": "OKIbvuawg-2I",
        "colab_type": "code",
        "outputId": "e9ddb4a4-306d-4aa1-9f7b-85ec796a8e3f",
        "colab": {
          "base_uri": "https://localhost:8080/",
          "height": 34
        }
      },
      "source": [
        "# Accuracy of majority class baseline = frequency of majority class\n",
        "from sklearn.metrics import accuracy_score\n",
        "accuracy_score(y_train, y_pred)"
      ],
      "execution_count": 0,
      "outputs": [
        {
          "output_type": "execute_result",
          "data": {
            "text/plain": [
              "0.5270812437311936"
            ]
          },
          "metadata": {
            "tags": []
          },
          "execution_count": 55
        }
      ]
    },
    {
      "cell_type": "markdown",
      "metadata": {
        "colab_type": "text",
        "id": "Dz2QHBiVy_Br"
      },
      "source": [
        "## 2. Hold out your test set.\n",
        "\n",
        ">Use the 2018-19 season to test. NBA seasons begin in October and end in June. You'll know you've split the data correctly when your test set has 1,709 observations."
      ]
    },
    {
      "cell_type": "code",
      "metadata": {
        "colab_type": "code",
        "id": "OPod6lBG_wTT",
        "colab": {}
      },
      "source": [
        "df['game_date'] = pd.to_datetime(df['game_date'], infer_datetime_format=True)"
      ],
      "execution_count": 0,
      "outputs": []
    },
    {
      "cell_type": "code",
      "metadata": {
        "id": "NFw3CsaPhEn-",
        "colab_type": "code",
        "outputId": "7c8cb66e-4e67-4de9-a985-a3b777df7ecc",
        "colab": {
          "base_uri": "https://localhost:8080/",
          "height": 34
        }
      },
      "source": [
        "df['game_date'].dt.year.unique()"
      ],
      "execution_count": 0,
      "outputs": [
        {
          "output_type": "execute_result",
          "data": {
            "text/plain": [
              "array([2009, 2010, 2011, 2012, 2013, 2014, 2015, 2016, 2017, 2018, 2019])"
            ]
          },
          "metadata": {
            "tags": []
          },
          "execution_count": 57
        }
      ]
    },
    {
      "cell_type": "code",
      "metadata": {
        "id": "OvMDrRhAhHvq",
        "colab_type": "code",
        "outputId": "d541573f-c031-40d5-89f9-c6af4a66455d",
        "colab": {
          "base_uri": "https://localhost:8080/",
          "height": 34
        }
      },
      "source": [
        "test=df[(df['game_date']>= pd.Timestamp(year=2018, month=10, day=1))& (df['game_date']< pd.Timestamp(year=2019, month=7, day=1))] \n",
        "test.shape"
      ],
      "execution_count": 0,
      "outputs": [
        {
          "output_type": "execute_result",
          "data": {
            "text/plain": [
              "(1709, 20)"
            ]
          },
          "metadata": {
            "tags": []
          },
          "execution_count": 58
        }
      ]
    },
    {
      "cell_type": "code",
      "metadata": {
        "id": "EmbyJKeGhLbZ",
        "colab_type": "code",
        "outputId": "98db9089-df08-437e-e2c0-3e4d99455972",
        "colab": {
          "base_uri": "https://localhost:8080/",
          "height": 34
        }
      },
      "source": [
        "train= df[(df['game_date']< pd.Timestamp(year=2018, month=10, day=1))]\n",
        "train.shape"
      ],
      "execution_count": 0,
      "outputs": [
        {
          "output_type": "execute_result",
          "data": {
            "text/plain": [
              "(12249, 20)"
            ]
          },
          "metadata": {
            "tags": []
          },
          "execution_count": 59
        }
      ]
    },
    {
      "cell_type": "code",
      "metadata": {
        "id": "DqyDyZgkhNhF",
        "colab_type": "code",
        "outputId": "ed36b345-8d44-49d8-eb13-d726ffccdfca",
        "colab": {
          "base_uri": "https://localhost:8080/",
          "height": 34
        }
      },
      "source": [
        "df.shape"
      ],
      "execution_count": 0,
      "outputs": [
        {
          "output_type": "execute_result",
          "data": {
            "text/plain": [
              "(13958, 20)"
            ]
          },
          "metadata": {
            "tags": []
          },
          "execution_count": 60
        }
      ]
    },
    {
      "cell_type": "code",
      "metadata": {
        "id": "EDgSBY9MhQp7",
        "colab_type": "code",
        "outputId": "0dc960db-ad36-4f34-a161-2cc4ce59174a",
        "colab": {
          "base_uri": "https://localhost:8080/",
          "height": 34
        }
      },
      "source": [
        "#Checking for accuracy\n",
        "1709+12249"
      ],
      "execution_count": 0,
      "outputs": [
        {
          "output_type": "execute_result",
          "data": {
            "text/plain": [
              "13958"
            ]
          },
          "metadata": {
            "tags": []
          },
          "execution_count": 61
        }
      ]
    },
    {
      "cell_type": "markdown",
      "metadata": {
        "colab_type": "text",
        "id": "P9Nihzk6y_CF"
      },
      "source": [
        "## 3. Engineer new feature.\n",
        "\n",
        ">Engineer at least **1** new feature, from this list, or your own idea.\n",
        ">\n",
        ">- **Homecourt Advantage**: Is the home team (`htm`) the Golden State Warriors (`GSW`) ?\n",
        ">- **Opponent**: Who is the other team playing the Golden State Warriors?\n",
        ">- **Seconds remaining in the period**: Combine minutes remaining with seconds remaining, to get the total number of seconds remaining in the period.\n",
        ">- **Seconds remaining in the game**: Combine period, and seconds remaining in the period, to get the total number of seconds remaining in the game. A basketball game has 4 periods, each 12 minutes long.\n",
        ">- **Made previous shot**: Was Steph Curry's previous shot successful?\n",
        "\n",
        "    "
      ]
    },
    {
      "cell_type": "code",
      "metadata": {
        "colab_type": "code",
        "id": "A0pxdFtWy_Bz",
        "outputId": "75430787-2924-41e9-cbed-45278feddaff",
        "colab": {
          "base_uri": "https://localhost:8080/",
          "height": 357
        }
      },
      "source": [
        "list(train.columns)"
      ],
      "execution_count": 0,
      "outputs": [
        {
          "output_type": "execute_result",
          "data": {
            "text/plain": [
              "['game_id',\n",
              " 'game_event_id',\n",
              " 'player_name',\n",
              " 'period',\n",
              " 'minutes_remaining',\n",
              " 'seconds_remaining',\n",
              " 'action_type',\n",
              " 'shot_type',\n",
              " 'shot_zone_basic',\n",
              " 'shot_zone_area',\n",
              " 'shot_zone_range',\n",
              " 'shot_distance',\n",
              " 'loc_x',\n",
              " 'loc_y',\n",
              " 'shot_made_flag',\n",
              " 'game_date',\n",
              " 'htm',\n",
              " 'vtm',\n",
              " 'season_type',\n",
              " 'scoremargin_before_shot']"
            ]
          },
          "metadata": {
            "tags": []
          },
          "execution_count": 62
        }
      ]
    },
    {
      "cell_type": "code",
      "metadata": {
        "id": "GvE1OtRVhgKx",
        "colab_type": "code",
        "outputId": "9b01d31f-36d4-41a6-f5f1-61a30a360e73",
        "colab": {
          "base_uri": "https://localhost:8080/",
          "height": 85
        }
      },
      "source": [
        "train.htm.unique()"
      ],
      "execution_count": 0,
      "outputs": [
        {
          "output_type": "execute_result",
          "data": {
            "text/plain": [
              "array(['GSW', 'PHX', 'SAC', 'IND', 'MIL', 'CLE', 'BOS', 'DAL', 'SAS',\n",
              "       'DEN', 'OKC', 'NJN', 'CHI', 'DET', 'PHI', 'MEM', 'NOH', 'LAL',\n",
              "       'POR', 'MIN', 'HOU', 'MIA', 'ORL', 'ATL', 'CHA', 'LAC', 'UTA',\n",
              "       'TOR', 'WAS', 'NYK', 'BKN', 'NOP'], dtype=object)"
            ]
          },
          "metadata": {
            "tags": []
          },
          "execution_count": 63
        }
      ]
    },
    {
      "cell_type": "code",
      "metadata": {
        "id": "HFsSuabXhkDs",
        "colab_type": "code",
        "outputId": "9cd0bf10-753a-4c3b-e10d-fcb4deb1e1e1",
        "colab": {
          "base_uri": "https://localhost:8080/",
          "height": 309
        }
      },
      "source": [
        "train.head()"
      ],
      "execution_count": 0,
      "outputs": [
        {
          "output_type": "execute_result",
          "data": {
            "text/html": [
              "<div>\n",
              "<style scoped>\n",
              "    .dataframe tbody tr th:only-of-type {\n",
              "        vertical-align: middle;\n",
              "    }\n",
              "\n",
              "    .dataframe tbody tr th {\n",
              "        vertical-align: top;\n",
              "    }\n",
              "\n",
              "    .dataframe thead th {\n",
              "        text-align: right;\n",
              "    }\n",
              "</style>\n",
              "<table border=\"1\" class=\"dataframe\">\n",
              "  <thead>\n",
              "    <tr style=\"text-align: right;\">\n",
              "      <th></th>\n",
              "      <th>game_id</th>\n",
              "      <th>game_event_id</th>\n",
              "      <th>player_name</th>\n",
              "      <th>period</th>\n",
              "      <th>minutes_remaining</th>\n",
              "      <th>seconds_remaining</th>\n",
              "      <th>action_type</th>\n",
              "      <th>shot_type</th>\n",
              "      <th>shot_zone_basic</th>\n",
              "      <th>shot_zone_area</th>\n",
              "      <th>shot_zone_range</th>\n",
              "      <th>shot_distance</th>\n",
              "      <th>loc_x</th>\n",
              "      <th>loc_y</th>\n",
              "      <th>shot_made_flag</th>\n",
              "      <th>game_date</th>\n",
              "      <th>htm</th>\n",
              "      <th>vtm</th>\n",
              "      <th>season_type</th>\n",
              "      <th>scoremargin_before_shot</th>\n",
              "    </tr>\n",
              "  </thead>\n",
              "  <tbody>\n",
              "    <tr>\n",
              "      <th>0</th>\n",
              "      <td>20900015</td>\n",
              "      <td>4</td>\n",
              "      <td>Stephen Curry</td>\n",
              "      <td>1</td>\n",
              "      <td>11</td>\n",
              "      <td>25</td>\n",
              "      <td>Jump Shot</td>\n",
              "      <td>3PT Field Goal</td>\n",
              "      <td>Above the Break 3</td>\n",
              "      <td>Right Side Center(RC)</td>\n",
              "      <td>24+ ft.</td>\n",
              "      <td>26</td>\n",
              "      <td>99</td>\n",
              "      <td>249</td>\n",
              "      <td>0</td>\n",
              "      <td>2009-10-28</td>\n",
              "      <td>GSW</td>\n",
              "      <td>HOU</td>\n",
              "      <td>Regular Season</td>\n",
              "      <td>2.0</td>\n",
              "    </tr>\n",
              "    <tr>\n",
              "      <th>1</th>\n",
              "      <td>20900015</td>\n",
              "      <td>17</td>\n",
              "      <td>Stephen Curry</td>\n",
              "      <td>1</td>\n",
              "      <td>9</td>\n",
              "      <td>31</td>\n",
              "      <td>Step Back Jump shot</td>\n",
              "      <td>2PT Field Goal</td>\n",
              "      <td>Mid-Range</td>\n",
              "      <td>Left Side Center(LC)</td>\n",
              "      <td>16-24 ft.</td>\n",
              "      <td>18</td>\n",
              "      <td>-122</td>\n",
              "      <td>145</td>\n",
              "      <td>1</td>\n",
              "      <td>2009-10-28</td>\n",
              "      <td>GSW</td>\n",
              "      <td>HOU</td>\n",
              "      <td>Regular Season</td>\n",
              "      <td>0.0</td>\n",
              "    </tr>\n",
              "    <tr>\n",
              "      <th>2</th>\n",
              "      <td>20900015</td>\n",
              "      <td>53</td>\n",
              "      <td>Stephen Curry</td>\n",
              "      <td>1</td>\n",
              "      <td>6</td>\n",
              "      <td>2</td>\n",
              "      <td>Jump Shot</td>\n",
              "      <td>2PT Field Goal</td>\n",
              "      <td>In The Paint (Non-RA)</td>\n",
              "      <td>Center(C)</td>\n",
              "      <td>8-16 ft.</td>\n",
              "      <td>14</td>\n",
              "      <td>-60</td>\n",
              "      <td>129</td>\n",
              "      <td>0</td>\n",
              "      <td>2009-10-28</td>\n",
              "      <td>GSW</td>\n",
              "      <td>HOU</td>\n",
              "      <td>Regular Season</td>\n",
              "      <td>-4.0</td>\n",
              "    </tr>\n",
              "    <tr>\n",
              "      <th>3</th>\n",
              "      <td>20900015</td>\n",
              "      <td>141</td>\n",
              "      <td>Stephen Curry</td>\n",
              "      <td>2</td>\n",
              "      <td>9</td>\n",
              "      <td>49</td>\n",
              "      <td>Jump Shot</td>\n",
              "      <td>2PT Field Goal</td>\n",
              "      <td>Mid-Range</td>\n",
              "      <td>Left Side(L)</td>\n",
              "      <td>16-24 ft.</td>\n",
              "      <td>19</td>\n",
              "      <td>-172</td>\n",
              "      <td>82</td>\n",
              "      <td>0</td>\n",
              "      <td>2009-10-28</td>\n",
              "      <td>GSW</td>\n",
              "      <td>HOU</td>\n",
              "      <td>Regular Season</td>\n",
              "      <td>-4.0</td>\n",
              "    </tr>\n",
              "    <tr>\n",
              "      <th>4</th>\n",
              "      <td>20900015</td>\n",
              "      <td>249</td>\n",
              "      <td>Stephen Curry</td>\n",
              "      <td>2</td>\n",
              "      <td>2</td>\n",
              "      <td>19</td>\n",
              "      <td>Jump Shot</td>\n",
              "      <td>2PT Field Goal</td>\n",
              "      <td>Mid-Range</td>\n",
              "      <td>Left Side Center(LC)</td>\n",
              "      <td>16-24 ft.</td>\n",
              "      <td>16</td>\n",
              "      <td>-68</td>\n",
              "      <td>148</td>\n",
              "      <td>0</td>\n",
              "      <td>2009-10-28</td>\n",
              "      <td>GSW</td>\n",
              "      <td>HOU</td>\n",
              "      <td>Regular Season</td>\n",
              "      <td>0.0</td>\n",
              "    </tr>\n",
              "  </tbody>\n",
              "</table>\n",
              "</div>"
            ],
            "text/plain": [
              "    game_id  game_event_id  ...     season_type  scoremargin_before_shot\n",
              "0  20900015              4  ...  Regular Season                      2.0\n",
              "1  20900015             17  ...  Regular Season                      0.0\n",
              "2  20900015             53  ...  Regular Season                     -4.0\n",
              "3  20900015            141  ...  Regular Season                     -4.0\n",
              "4  20900015            249  ...  Regular Season                      0.0\n",
              "\n",
              "[5 rows x 20 columns]"
            ]
          },
          "metadata": {
            "tags": []
          },
          "execution_count": 64
        }
      ]
    },
    {
      "cell_type": "code",
      "metadata": {
        "id": "8umrknZjhmNZ",
        "colab_type": "code",
        "outputId": "5484cf99-bbf0-4568-ee3a-a7deb75bb036",
        "colab": {
          "base_uri": "https://localhost:8080/",
          "height": 374
        }
      },
      "source": [
        "train.dtypes"
      ],
      "execution_count": 0,
      "outputs": [
        {
          "output_type": "execute_result",
          "data": {
            "text/plain": [
              "game_id                             int64\n",
              "game_event_id                       int64\n",
              "player_name                        object\n",
              "period                              int64\n",
              "minutes_remaining                   int64\n",
              "seconds_remaining                   int64\n",
              "action_type                        object\n",
              "shot_type                          object\n",
              "shot_zone_basic                    object\n",
              "shot_zone_area                     object\n",
              "shot_zone_range                    object\n",
              "shot_distance                       int64\n",
              "loc_x                               int64\n",
              "loc_y                               int64\n",
              "shot_made_flag                      int64\n",
              "game_date                  datetime64[ns]\n",
              "htm                                object\n",
              "vtm                                object\n",
              "season_type                        object\n",
              "scoremargin_before_shot           float64\n",
              "dtype: object"
            ]
          },
          "metadata": {
            "tags": []
          },
          "execution_count": 65
        }
      ]
    },
    {
      "cell_type": "code",
      "metadata": {
        "id": "p1MmbN72hpOP",
        "colab_type": "code",
        "colab": {}
      },
      "source": [
        "import numpy as np"
      ],
      "execution_count": 0,
      "outputs": []
    },
    {
      "cell_type": "code",
      "metadata": {
        "id": "ZJt4lgHThr5v",
        "colab_type": "code",
        "colab": {}
      },
      "source": [
        "def wrangle(X):\n",
        "  X = X.copy()\n",
        "   \n",
        "  # Seconds remaining in the period: Combine minutes remaining with seconds remaining, to get the total number of seconds remaining in the period.\n",
        "  X['total_remaining_period'] = (X['minutes_remaining']*60)+X['seconds_remaining']\n",
        "\n",
        "  # Seconds remaining in the game: Combine period, and seconds remaining in the period, to get the total number of seconds remaining in the game. A basketball game has 4 periods, each 12 minutes long.\n",
        "  X['total_remaining_game'] = ((4-(X['period']*12*60))+X['seconds_remaining'])\n",
        "\n",
        "  # Homecourt Advantage: Is the home team (htm) the Golden State Warriors (GSW) ?\n",
        "\n",
        "  X['homecourt_advantage'] =['Advantage' if a == 'GSW' else 'Not_Advantage' for a in X['htm']]\n",
        "\n",
        "  #My feature engineer\n",
        "  X['year_game'] = X['game_date'].dt.year\n",
        "  X['month_game'] = X['game_date'].dt.month\n",
        "  X['day_game'] = X['game_date'].dt.day\n",
        "\n",
        "\n",
        "\n",
        "  X = X.drop(columns='game_date')\n",
        "  return X"
      ],
      "execution_count": 0,
      "outputs": []
    },
    {
      "cell_type": "code",
      "metadata": {
        "id": "EjHUpQHfhv_I",
        "colab_type": "code",
        "outputId": "c42af8d9-2e4b-44fd-a130-5df13e7f3c52",
        "colab": {
          "base_uri": "https://localhost:8080/",
          "height": 309
        }
      },
      "source": [
        "train = wrangle(train)\n",
        "test = wrangle(test)\n",
        "train.head()"
      ],
      "execution_count": 0,
      "outputs": [
        {
          "output_type": "execute_result",
          "data": {
            "text/html": [
              "<div>\n",
              "<style scoped>\n",
              "    .dataframe tbody tr th:only-of-type {\n",
              "        vertical-align: middle;\n",
              "    }\n",
              "\n",
              "    .dataframe tbody tr th {\n",
              "        vertical-align: top;\n",
              "    }\n",
              "\n",
              "    .dataframe thead th {\n",
              "        text-align: right;\n",
              "    }\n",
              "</style>\n",
              "<table border=\"1\" class=\"dataframe\">\n",
              "  <thead>\n",
              "    <tr style=\"text-align: right;\">\n",
              "      <th></th>\n",
              "      <th>game_id</th>\n",
              "      <th>game_event_id</th>\n",
              "      <th>player_name</th>\n",
              "      <th>period</th>\n",
              "      <th>minutes_remaining</th>\n",
              "      <th>seconds_remaining</th>\n",
              "      <th>action_type</th>\n",
              "      <th>shot_type</th>\n",
              "      <th>shot_zone_basic</th>\n",
              "      <th>shot_zone_area</th>\n",
              "      <th>shot_zone_range</th>\n",
              "      <th>shot_distance</th>\n",
              "      <th>loc_x</th>\n",
              "      <th>loc_y</th>\n",
              "      <th>shot_made_flag</th>\n",
              "      <th>htm</th>\n",
              "      <th>vtm</th>\n",
              "      <th>season_type</th>\n",
              "      <th>scoremargin_before_shot</th>\n",
              "      <th>total_remaining_period</th>\n",
              "      <th>total_remaining_game</th>\n",
              "      <th>homecourt_advantage</th>\n",
              "      <th>year_game</th>\n",
              "      <th>month_game</th>\n",
              "      <th>day_game</th>\n",
              "    </tr>\n",
              "  </thead>\n",
              "  <tbody>\n",
              "    <tr>\n",
              "      <th>0</th>\n",
              "      <td>20900015</td>\n",
              "      <td>4</td>\n",
              "      <td>Stephen Curry</td>\n",
              "      <td>1</td>\n",
              "      <td>11</td>\n",
              "      <td>25</td>\n",
              "      <td>Jump Shot</td>\n",
              "      <td>3PT Field Goal</td>\n",
              "      <td>Above the Break 3</td>\n",
              "      <td>Right Side Center(RC)</td>\n",
              "      <td>24+ ft.</td>\n",
              "      <td>26</td>\n",
              "      <td>99</td>\n",
              "      <td>249</td>\n",
              "      <td>0</td>\n",
              "      <td>GSW</td>\n",
              "      <td>HOU</td>\n",
              "      <td>Regular Season</td>\n",
              "      <td>2.0</td>\n",
              "      <td>685</td>\n",
              "      <td>-691</td>\n",
              "      <td>Advantage</td>\n",
              "      <td>2009</td>\n",
              "      <td>10</td>\n",
              "      <td>28</td>\n",
              "    </tr>\n",
              "    <tr>\n",
              "      <th>1</th>\n",
              "      <td>20900015</td>\n",
              "      <td>17</td>\n",
              "      <td>Stephen Curry</td>\n",
              "      <td>1</td>\n",
              "      <td>9</td>\n",
              "      <td>31</td>\n",
              "      <td>Step Back Jump shot</td>\n",
              "      <td>2PT Field Goal</td>\n",
              "      <td>Mid-Range</td>\n",
              "      <td>Left Side Center(LC)</td>\n",
              "      <td>16-24 ft.</td>\n",
              "      <td>18</td>\n",
              "      <td>-122</td>\n",
              "      <td>145</td>\n",
              "      <td>1</td>\n",
              "      <td>GSW</td>\n",
              "      <td>HOU</td>\n",
              "      <td>Regular Season</td>\n",
              "      <td>0.0</td>\n",
              "      <td>571</td>\n",
              "      <td>-685</td>\n",
              "      <td>Advantage</td>\n",
              "      <td>2009</td>\n",
              "      <td>10</td>\n",
              "      <td>28</td>\n",
              "    </tr>\n",
              "    <tr>\n",
              "      <th>2</th>\n",
              "      <td>20900015</td>\n",
              "      <td>53</td>\n",
              "      <td>Stephen Curry</td>\n",
              "      <td>1</td>\n",
              "      <td>6</td>\n",
              "      <td>2</td>\n",
              "      <td>Jump Shot</td>\n",
              "      <td>2PT Field Goal</td>\n",
              "      <td>In The Paint (Non-RA)</td>\n",
              "      <td>Center(C)</td>\n",
              "      <td>8-16 ft.</td>\n",
              "      <td>14</td>\n",
              "      <td>-60</td>\n",
              "      <td>129</td>\n",
              "      <td>0</td>\n",
              "      <td>GSW</td>\n",
              "      <td>HOU</td>\n",
              "      <td>Regular Season</td>\n",
              "      <td>-4.0</td>\n",
              "      <td>362</td>\n",
              "      <td>-714</td>\n",
              "      <td>Advantage</td>\n",
              "      <td>2009</td>\n",
              "      <td>10</td>\n",
              "      <td>28</td>\n",
              "    </tr>\n",
              "    <tr>\n",
              "      <th>3</th>\n",
              "      <td>20900015</td>\n",
              "      <td>141</td>\n",
              "      <td>Stephen Curry</td>\n",
              "      <td>2</td>\n",
              "      <td>9</td>\n",
              "      <td>49</td>\n",
              "      <td>Jump Shot</td>\n",
              "      <td>2PT Field Goal</td>\n",
              "      <td>Mid-Range</td>\n",
              "      <td>Left Side(L)</td>\n",
              "      <td>16-24 ft.</td>\n",
              "      <td>19</td>\n",
              "      <td>-172</td>\n",
              "      <td>82</td>\n",
              "      <td>0</td>\n",
              "      <td>GSW</td>\n",
              "      <td>HOU</td>\n",
              "      <td>Regular Season</td>\n",
              "      <td>-4.0</td>\n",
              "      <td>589</td>\n",
              "      <td>-1387</td>\n",
              "      <td>Advantage</td>\n",
              "      <td>2009</td>\n",
              "      <td>10</td>\n",
              "      <td>28</td>\n",
              "    </tr>\n",
              "    <tr>\n",
              "      <th>4</th>\n",
              "      <td>20900015</td>\n",
              "      <td>249</td>\n",
              "      <td>Stephen Curry</td>\n",
              "      <td>2</td>\n",
              "      <td>2</td>\n",
              "      <td>19</td>\n",
              "      <td>Jump Shot</td>\n",
              "      <td>2PT Field Goal</td>\n",
              "      <td>Mid-Range</td>\n",
              "      <td>Left Side Center(LC)</td>\n",
              "      <td>16-24 ft.</td>\n",
              "      <td>16</td>\n",
              "      <td>-68</td>\n",
              "      <td>148</td>\n",
              "      <td>0</td>\n",
              "      <td>GSW</td>\n",
              "      <td>HOU</td>\n",
              "      <td>Regular Season</td>\n",
              "      <td>0.0</td>\n",
              "      <td>139</td>\n",
              "      <td>-1417</td>\n",
              "      <td>Advantage</td>\n",
              "      <td>2009</td>\n",
              "      <td>10</td>\n",
              "      <td>28</td>\n",
              "    </tr>\n",
              "  </tbody>\n",
              "</table>\n",
              "</div>"
            ],
            "text/plain": [
              "    game_id  game_event_id    player_name  ...  year_game  month_game  day_game\n",
              "0  20900015              4  Stephen Curry  ...       2009          10        28\n",
              "1  20900015             17  Stephen Curry  ...       2009          10        28\n",
              "2  20900015             53  Stephen Curry  ...       2009          10        28\n",
              "3  20900015            141  Stephen Curry  ...       2009          10        28\n",
              "4  20900015            249  Stephen Curry  ...       2009          10        28\n",
              "\n",
              "[5 rows x 25 columns]"
            ]
          },
          "metadata": {
            "tags": []
          },
          "execution_count": 68
        }
      ]
    },
    {
      "cell_type": "markdown",
      "metadata": {
        "colab_type": "text",
        "id": "eLs7pt7NFJLF"
      },
      "source": [
        "## **4. Decide how to validate** your model. \n",
        "\n",
        ">Choose one of the following options. Any of these options are good. You are not graded on which you choose.\n",
        ">\n",
        ">- **Train/validate/test split: train on the 2009-10 season through 2016-17 season, validate with the 2017-18 season.** You'll know you've split the data correctly when your train set has 11,081 observations, and your validation set has 1,168 observations.\n",
        ">- **Train/validate/test split: random 80/20%** train/validate split.\n",
        ">- **Cross-validation** with independent test set. You may use any scikit-learn cross-validation method."
      ]
    },
    {
      "cell_type": "code",
      "metadata": {
        "colab_type": "code",
        "id": "LJ58CceDISXR",
        "colab": {}
      },
      "source": [
        "# Train/validate/test split: random 80/20% train/validate split\n",
        "from sklearn.model_selection import train_test_split\n",
        "\n",
        "\n",
        "X_train,X_val,y_train, y_val= train_test_split((train.drop('shot_made_flag',axis=1)),(train.shot_made_flag), train_size=0.80, test_size=0.20,  stratify=train['shot_made_flag'],\n",
        "                             random_state=42)"
      ],
      "execution_count": 0,
      "outputs": []
    },
    {
      "cell_type": "code",
      "metadata": {
        "id": "6tTPy4svh2Dc",
        "colab_type": "code",
        "outputId": "94d4b0f3-a1f0-4778-a855-ce980c292214",
        "colab": {
          "base_uri": "https://localhost:8080/",
          "height": 34
        }
      },
      "source": [
        "X_train.shape, X_val.shape, y_train.shape, y_val.shape"
      ],
      "execution_count": 0,
      "outputs": [
        {
          "output_type": "execute_result",
          "data": {
            "text/plain": [
              "((9799, 24), (2450, 24), (9799,), (2450,))"
            ]
          },
          "metadata": {
            "tags": []
          },
          "execution_count": 70
        }
      ]
    },
    {
      "cell_type": "code",
      "metadata": {
        "id": "1RGFhAIHh4Ag",
        "colab_type": "code",
        "outputId": "2482b515-e326-48cf-da76-1e247e91d1c2",
        "colab": {
          "base_uri": "https://localhost:8080/",
          "height": 309
        }
      },
      "source": [
        "X_train.head()"
      ],
      "execution_count": 0,
      "outputs": [
        {
          "output_type": "execute_result",
          "data": {
            "text/html": [
              "<div>\n",
              "<style scoped>\n",
              "    .dataframe tbody tr th:only-of-type {\n",
              "        vertical-align: middle;\n",
              "    }\n",
              "\n",
              "    .dataframe tbody tr th {\n",
              "        vertical-align: top;\n",
              "    }\n",
              "\n",
              "    .dataframe thead th {\n",
              "        text-align: right;\n",
              "    }\n",
              "</style>\n",
              "<table border=\"1\" class=\"dataframe\">\n",
              "  <thead>\n",
              "    <tr style=\"text-align: right;\">\n",
              "      <th></th>\n",
              "      <th>game_id</th>\n",
              "      <th>game_event_id</th>\n",
              "      <th>player_name</th>\n",
              "      <th>period</th>\n",
              "      <th>minutes_remaining</th>\n",
              "      <th>seconds_remaining</th>\n",
              "      <th>action_type</th>\n",
              "      <th>shot_type</th>\n",
              "      <th>shot_zone_basic</th>\n",
              "      <th>shot_zone_area</th>\n",
              "      <th>shot_zone_range</th>\n",
              "      <th>shot_distance</th>\n",
              "      <th>loc_x</th>\n",
              "      <th>loc_y</th>\n",
              "      <th>htm</th>\n",
              "      <th>vtm</th>\n",
              "      <th>season_type</th>\n",
              "      <th>scoremargin_before_shot</th>\n",
              "      <th>total_remaining_period</th>\n",
              "      <th>total_remaining_game</th>\n",
              "      <th>homecourt_advantage</th>\n",
              "      <th>year_game</th>\n",
              "      <th>month_game</th>\n",
              "      <th>day_game</th>\n",
              "    </tr>\n",
              "  </thead>\n",
              "  <tbody>\n",
              "    <tr>\n",
              "      <th>4723</th>\n",
              "      <td>21300515</td>\n",
              "      <td>361</td>\n",
              "      <td>Stephen Curry</td>\n",
              "      <td>3</td>\n",
              "      <td>1</td>\n",
              "      <td>32</td>\n",
              "      <td>Layup Shot</td>\n",
              "      <td>2PT Field Goal</td>\n",
              "      <td>Restricted Area</td>\n",
              "      <td>Center(C)</td>\n",
              "      <td>Less Than 8 ft.</td>\n",
              "      <td>1</td>\n",
              "      <td>-13</td>\n",
              "      <td>-2</td>\n",
              "      <td>MIL</td>\n",
              "      <td>GSW</td>\n",
              "      <td>Regular Season</td>\n",
              "      <td>17.0</td>\n",
              "      <td>92</td>\n",
              "      <td>-2124</td>\n",
              "      <td>Not_Advantage</td>\n",
              "      <td>2014</td>\n",
              "      <td>1</td>\n",
              "      <td>7</td>\n",
              "    </tr>\n",
              "    <tr>\n",
              "      <th>4213</th>\n",
              "      <td>21300124</td>\n",
              "      <td>9</td>\n",
              "      <td>Stephen Curry</td>\n",
              "      <td>1</td>\n",
              "      <td>10</td>\n",
              "      <td>47</td>\n",
              "      <td>Pullup Jump shot</td>\n",
              "      <td>3PT Field Goal</td>\n",
              "      <td>Above the Break 3</td>\n",
              "      <td>Left Side Center(LC)</td>\n",
              "      <td>24+ ft.</td>\n",
              "      <td>27</td>\n",
              "      <td>-180</td>\n",
              "      <td>205</td>\n",
              "      <td>GSW</td>\n",
              "      <td>OKC</td>\n",
              "      <td>Regular Season</td>\n",
              "      <td>-1.0</td>\n",
              "      <td>647</td>\n",
              "      <td>-669</td>\n",
              "      <td>Advantage</td>\n",
              "      <td>2013</td>\n",
              "      <td>11</td>\n",
              "      <td>14</td>\n",
              "    </tr>\n",
              "    <tr>\n",
              "      <th>3356</th>\n",
              "      <td>21200822</td>\n",
              "      <td>479</td>\n",
              "      <td>Stephen Curry</td>\n",
              "      <td>4</td>\n",
              "      <td>6</td>\n",
              "      <td>43</td>\n",
              "      <td>Step Back Jump shot</td>\n",
              "      <td>2PT Field Goal</td>\n",
              "      <td>Mid-Range</td>\n",
              "      <td>Left Side(L)</td>\n",
              "      <td>8-16 ft.</td>\n",
              "      <td>15</td>\n",
              "      <td>-136</td>\n",
              "      <td>77</td>\n",
              "      <td>GSW</td>\n",
              "      <td>SAS</td>\n",
              "      <td>Regular Season</td>\n",
              "      <td>-5.0</td>\n",
              "      <td>403</td>\n",
              "      <td>-2833</td>\n",
              "      <td>Advantage</td>\n",
              "      <td>2013</td>\n",
              "      <td>2</td>\n",
              "      <td>22</td>\n",
              "    </tr>\n",
              "    <tr>\n",
              "      <th>4273</th>\n",
              "      <td>21300196</td>\n",
              "      <td>54</td>\n",
              "      <td>Stephen Curry</td>\n",
              "      <td>1</td>\n",
              "      <td>5</td>\n",
              "      <td>13</td>\n",
              "      <td>Pullup Bank shot</td>\n",
              "      <td>2PT Field Goal</td>\n",
              "      <td>Mid-Range</td>\n",
              "      <td>Left Side Center(LC)</td>\n",
              "      <td>16-24 ft.</td>\n",
              "      <td>16</td>\n",
              "      <td>-111</td>\n",
              "      <td>121</td>\n",
              "      <td>GSW</td>\n",
              "      <td>POR</td>\n",
              "      <td>Regular Season</td>\n",
              "      <td>-7.0</td>\n",
              "      <td>313</td>\n",
              "      <td>-703</td>\n",
              "      <td>Advantage</td>\n",
              "      <td>2013</td>\n",
              "      <td>11</td>\n",
              "      <td>23</td>\n",
              "    </tr>\n",
              "    <tr>\n",
              "      <th>8146</th>\n",
              "      <td>21500605</td>\n",
              "      <td>301</td>\n",
              "      <td>Stephen Curry</td>\n",
              "      <td>3</td>\n",
              "      <td>8</td>\n",
              "      <td>21</td>\n",
              "      <td>Jump Shot</td>\n",
              "      <td>2PT Field Goal</td>\n",
              "      <td>In The Paint (Non-RA)</td>\n",
              "      <td>Center(C)</td>\n",
              "      <td>Less Than 8 ft.</td>\n",
              "      <td>6</td>\n",
              "      <td>-2</td>\n",
              "      <td>62</td>\n",
              "      <td>DET</td>\n",
              "      <td>GSW</td>\n",
              "      <td>Regular Season</td>\n",
              "      <td>-17.0</td>\n",
              "      <td>501</td>\n",
              "      <td>-2135</td>\n",
              "      <td>Not_Advantage</td>\n",
              "      <td>2016</td>\n",
              "      <td>1</td>\n",
              "      <td>16</td>\n",
              "    </tr>\n",
              "  </tbody>\n",
              "</table>\n",
              "</div>"
            ],
            "text/plain": [
              "       game_id  game_event_id    player_name  ...  year_game  month_game  day_game\n",
              "4723  21300515            361  Stephen Curry  ...       2014           1         7\n",
              "4213  21300124              9  Stephen Curry  ...       2013          11        14\n",
              "3356  21200822            479  Stephen Curry  ...       2013           2        22\n",
              "4273  21300196             54  Stephen Curry  ...       2013          11        23\n",
              "8146  21500605            301  Stephen Curry  ...       2016           1        16\n",
              "\n",
              "[5 rows x 24 columns]"
            ]
          },
          "metadata": {
            "tags": []
          },
          "execution_count": 71
        }
      ]
    },
    {
      "cell_type": "code",
      "metadata": {
        "id": "qGHZ2Bq0h7Gy",
        "colab_type": "code",
        "outputId": "cdab643c-aa6e-4ae2-e55f-f2d60b3118c4",
        "colab": {
          "base_uri": "https://localhost:8080/",
          "height": 221
        }
      },
      "source": [
        "y_train"
      ],
      "execution_count": 0,
      "outputs": [
        {
          "output_type": "execute_result",
          "data": {
            "text/plain": [
              "4723     0\n",
              "4213     1\n",
              "3356     1\n",
              "4273     1\n",
              "8146     0\n",
              "        ..\n",
              "11657    0\n",
              "404      0\n",
              "4648     1\n",
              "943      1\n",
              "6818     1\n",
              "Name: shot_made_flag, Length: 9799, dtype: int64"
            ]
          },
          "metadata": {
            "tags": []
          },
          "execution_count": 72
        }
      ]
    },
    {
      "cell_type": "code",
      "metadata": {
        "id": "ZWxXQZ7nh-qX",
        "colab_type": "code",
        "outputId": "82b52bb4-b591-4ab7-84fd-fc76fe4f7678",
        "colab": {
          "base_uri": "https://localhost:8080/",
          "height": 210
        }
      },
      "source": [
        "train.describe(exclude='number')"
      ],
      "execution_count": 0,
      "outputs": [
        {
          "output_type": "execute_result",
          "data": {
            "text/html": [
              "<div>\n",
              "<style scoped>\n",
              "    .dataframe tbody tr th:only-of-type {\n",
              "        vertical-align: middle;\n",
              "    }\n",
              "\n",
              "    .dataframe tbody tr th {\n",
              "        vertical-align: top;\n",
              "    }\n",
              "\n",
              "    .dataframe thead th {\n",
              "        text-align: right;\n",
              "    }\n",
              "</style>\n",
              "<table border=\"1\" class=\"dataframe\">\n",
              "  <thead>\n",
              "    <tr style=\"text-align: right;\">\n",
              "      <th></th>\n",
              "      <th>player_name</th>\n",
              "      <th>action_type</th>\n",
              "      <th>shot_type</th>\n",
              "      <th>shot_zone_basic</th>\n",
              "      <th>shot_zone_area</th>\n",
              "      <th>shot_zone_range</th>\n",
              "      <th>htm</th>\n",
              "      <th>vtm</th>\n",
              "      <th>season_type</th>\n",
              "      <th>homecourt_advantage</th>\n",
              "    </tr>\n",
              "  </thead>\n",
              "  <tbody>\n",
              "    <tr>\n",
              "      <th>count</th>\n",
              "      <td>12249</td>\n",
              "      <td>12249</td>\n",
              "      <td>12249</td>\n",
              "      <td>12249</td>\n",
              "      <td>12249</td>\n",
              "      <td>12249</td>\n",
              "      <td>12249</td>\n",
              "      <td>12249</td>\n",
              "      <td>12249</td>\n",
              "      <td>12249</td>\n",
              "    </tr>\n",
              "    <tr>\n",
              "      <th>unique</th>\n",
              "      <td>1</td>\n",
              "      <td>52</td>\n",
              "      <td>2</td>\n",
              "      <td>7</td>\n",
              "      <td>6</td>\n",
              "      <td>5</td>\n",
              "      <td>32</td>\n",
              "      <td>32</td>\n",
              "      <td>2</td>\n",
              "      <td>2</td>\n",
              "    </tr>\n",
              "    <tr>\n",
              "      <th>top</th>\n",
              "      <td>Stephen Curry</td>\n",
              "      <td>Jump Shot</td>\n",
              "      <td>2PT Field Goal</td>\n",
              "      <td>Above the Break 3</td>\n",
              "      <td>Center(C)</td>\n",
              "      <td>24+ ft.</td>\n",
              "      <td>GSW</td>\n",
              "      <td>GSW</td>\n",
              "      <td>Regular Season</td>\n",
              "      <td>Not_Advantage</td>\n",
              "    </tr>\n",
              "    <tr>\n",
              "      <th>freq</th>\n",
              "      <td>12249</td>\n",
              "      <td>5916</td>\n",
              "      <td>6446</td>\n",
              "      <td>4849</td>\n",
              "      <td>5331</td>\n",
              "      <td>5719</td>\n",
              "      <td>6052</td>\n",
              "      <td>6197</td>\n",
              "      <td>10506</td>\n",
              "      <td>6197</td>\n",
              "    </tr>\n",
              "  </tbody>\n",
              "</table>\n",
              "</div>"
            ],
            "text/plain": [
              "          player_name action_type  ...     season_type homecourt_advantage\n",
              "count           12249       12249  ...           12249               12249\n",
              "unique              1          52  ...               2                   2\n",
              "top     Stephen Curry   Jump Shot  ...  Regular Season       Not_Advantage\n",
              "freq            12249        5916  ...           10506                6197\n",
              "\n",
              "[4 rows x 10 columns]"
            ]
          },
          "metadata": {
            "tags": []
          },
          "execution_count": 73
        }
      ]
    },
    {
      "cell_type": "code",
      "metadata": {
        "id": "LIceRSwEiAxu",
        "colab_type": "code",
        "outputId": "2074f52a-81b4-4dae-9ee5-1372a31ec312",
        "colab": {
          "base_uri": "https://localhost:8080/",
          "height": 359
        }
      },
      "source": [
        "train.describe(exclude='number').T.sort_values(by='unique')"
      ],
      "execution_count": 0,
      "outputs": [
        {
          "output_type": "execute_result",
          "data": {
            "text/html": [
              "<div>\n",
              "<style scoped>\n",
              "    .dataframe tbody tr th:only-of-type {\n",
              "        vertical-align: middle;\n",
              "    }\n",
              "\n",
              "    .dataframe tbody tr th {\n",
              "        vertical-align: top;\n",
              "    }\n",
              "\n",
              "    .dataframe thead th {\n",
              "        text-align: right;\n",
              "    }\n",
              "</style>\n",
              "<table border=\"1\" class=\"dataframe\">\n",
              "  <thead>\n",
              "    <tr style=\"text-align: right;\">\n",
              "      <th></th>\n",
              "      <th>count</th>\n",
              "      <th>unique</th>\n",
              "      <th>top</th>\n",
              "      <th>freq</th>\n",
              "    </tr>\n",
              "  </thead>\n",
              "  <tbody>\n",
              "    <tr>\n",
              "      <th>player_name</th>\n",
              "      <td>12249</td>\n",
              "      <td>1</td>\n",
              "      <td>Stephen Curry</td>\n",
              "      <td>12249</td>\n",
              "    </tr>\n",
              "    <tr>\n",
              "      <th>shot_type</th>\n",
              "      <td>12249</td>\n",
              "      <td>2</td>\n",
              "      <td>2PT Field Goal</td>\n",
              "      <td>6446</td>\n",
              "    </tr>\n",
              "    <tr>\n",
              "      <th>season_type</th>\n",
              "      <td>12249</td>\n",
              "      <td>2</td>\n",
              "      <td>Regular Season</td>\n",
              "      <td>10506</td>\n",
              "    </tr>\n",
              "    <tr>\n",
              "      <th>homecourt_advantage</th>\n",
              "      <td>12249</td>\n",
              "      <td>2</td>\n",
              "      <td>Not_Advantage</td>\n",
              "      <td>6197</td>\n",
              "    </tr>\n",
              "    <tr>\n",
              "      <th>shot_zone_range</th>\n",
              "      <td>12249</td>\n",
              "      <td>5</td>\n",
              "      <td>24+ ft.</td>\n",
              "      <td>5719</td>\n",
              "    </tr>\n",
              "    <tr>\n",
              "      <th>shot_zone_area</th>\n",
              "      <td>12249</td>\n",
              "      <td>6</td>\n",
              "      <td>Center(C)</td>\n",
              "      <td>5331</td>\n",
              "    </tr>\n",
              "    <tr>\n",
              "      <th>shot_zone_basic</th>\n",
              "      <td>12249</td>\n",
              "      <td>7</td>\n",
              "      <td>Above the Break 3</td>\n",
              "      <td>4849</td>\n",
              "    </tr>\n",
              "    <tr>\n",
              "      <th>htm</th>\n",
              "      <td>12249</td>\n",
              "      <td>32</td>\n",
              "      <td>GSW</td>\n",
              "      <td>6052</td>\n",
              "    </tr>\n",
              "    <tr>\n",
              "      <th>vtm</th>\n",
              "      <td>12249</td>\n",
              "      <td>32</td>\n",
              "      <td>GSW</td>\n",
              "      <td>6197</td>\n",
              "    </tr>\n",
              "    <tr>\n",
              "      <th>action_type</th>\n",
              "      <td>12249</td>\n",
              "      <td>52</td>\n",
              "      <td>Jump Shot</td>\n",
              "      <td>5916</td>\n",
              "    </tr>\n",
              "  </tbody>\n",
              "</table>\n",
              "</div>"
            ],
            "text/plain": [
              "                     count unique                top   freq\n",
              "player_name          12249      1      Stephen Curry  12249\n",
              "shot_type            12249      2     2PT Field Goal   6446\n",
              "season_type          12249      2     Regular Season  10506\n",
              "homecourt_advantage  12249      2      Not_Advantage   6197\n",
              "shot_zone_range      12249      5            24+ ft.   5719\n",
              "shot_zone_area       12249      6          Center(C)   5331\n",
              "shot_zone_basic      12249      7  Above the Break 3   4849\n",
              "htm                  12249     32                GSW   6052\n",
              "vtm                  12249     32                GSW   6197\n",
              "action_type          12249     52          Jump Shot   5916"
            ]
          },
          "metadata": {
            "tags": []
          },
          "execution_count": 74
        }
      ]
    },
    {
      "cell_type": "code",
      "metadata": {
        "id": "n9BFNvHRiED9",
        "colab_type": "code",
        "outputId": "0a8566ea-c5ad-4e7a-cc27-105466e5e76a",
        "colab": {
          "base_uri": "https://localhost:8080/",
          "height": 459
        }
      },
      "source": [
        "train.isnull().sum()"
      ],
      "execution_count": 0,
      "outputs": [
        {
          "output_type": "execute_result",
          "data": {
            "text/plain": [
              "game_id                    0\n",
              "game_event_id              0\n",
              "player_name                0\n",
              "period                     0\n",
              "minutes_remaining          0\n",
              "seconds_remaining          0\n",
              "action_type                0\n",
              "shot_type                  0\n",
              "shot_zone_basic            0\n",
              "shot_zone_area             0\n",
              "shot_zone_range            0\n",
              "shot_distance              0\n",
              "loc_x                      0\n",
              "loc_y                      0\n",
              "shot_made_flag             0\n",
              "htm                        0\n",
              "vtm                        0\n",
              "season_type                0\n",
              "scoremargin_before_shot    0\n",
              "total_remaining_period     0\n",
              "total_remaining_game       0\n",
              "homecourt_advantage        0\n",
              "year_game                  0\n",
              "month_game                 0\n",
              "day_game                   0\n",
              "dtype: int64"
            ]
          },
          "metadata": {
            "tags": []
          },
          "execution_count": 75
        }
      ]
    },
    {
      "cell_type": "markdown",
      "metadata": {
        "colab_type": "text",
        "id": "oQ2lWlu7JPRt"
      },
      "source": [
        "## 5. Use a scikit-learn pipeline to encode categoricals and fit a Decision Tree or Random Forest model."
      ]
    },
    {
      "cell_type": "code",
      "metadata": {
        "colab_type": "code",
        "id": "X2S8mUuJy_CB",
        "colab": {}
      },
      "source": [
        "from sklearn.pipeline import make_pipeline\n",
        "from sklearn.ensemble import RandomForestClassifier\n",
        "from sklearn.tree import DecisionTreeClassifier\n",
        "import category_encoders as ce\n",
        "from sklearn.impute import SimpleImputer\n",
        "from sklearn.preprocessing import StandardScaler\n",
        "import numpy as np\n",
        "from random import randint"
      ],
      "execution_count": 0,
      "outputs": []
    },
    {
      "cell_type": "code",
      "metadata": {
        "id": "3cEubzsBiQmF",
        "colab_type": "code",
        "colab": {}
      },
      "source": [
        "target = 'shot_made_flag'\n",
        "y_test = test[target]"
      ],
      "execution_count": 0,
      "outputs": []
    },
    {
      "cell_type": "code",
      "metadata": {
        "id": "rK6fWfJAiS1Y",
        "colab_type": "code",
        "outputId": "29e51f31-1ad3-46c9-85da-b969c98c8382",
        "colab": {
          "base_uri": "https://localhost:8080/",
          "height": 34
        }
      },
      "source": [
        "y_test.shape"
      ],
      "execution_count": 0,
      "outputs": [
        {
          "output_type": "execute_result",
          "data": {
            "text/plain": [
              "(1709,)"
            ]
          },
          "metadata": {
            "tags": []
          },
          "execution_count": 78
        }
      ]
    },
    {
      "cell_type": "code",
      "metadata": {
        "id": "yHxHhri3iWRF",
        "colab_type": "code",
        "outputId": "5ed6bc18-b7e7-419f-cd12-53b5ba0198a5",
        "colab": {
          "base_uri": "https://localhost:8080/",
          "height": 51
        }
      },
      "source": [
        "pipeline_decision = make_pipeline(\n",
        "    ce.OneHotEncoder(use_cat_names=True), \n",
        "    SimpleImputer(), \n",
        "    StandardScaler(), \n",
        "    DecisionTreeClassifier(random_state=42,max_depth=25,min_samples_leaf=6))\n",
        "\n",
        "\n",
        "pipeline_decision.fit(X_train, y_train)\n",
        "print('Train Accuracy', pipeline_decision.score(X_train, y_train))\n",
        "print('Validation Accuracy', pipeline_decision.score(X_val, y_val))"
      ],
      "execution_count": 0,
      "outputs": [
        {
          "output_type": "stream",
          "text": [
            "Train Accuracy 0.8403918767221145\n",
            "Validation Accuracy 0.5816326530612245\n"
          ],
          "name": "stdout"
        }
      ]
    },
    {
      "cell_type": "code",
      "metadata": {
        "id": "y-lEJBuQie1p",
        "colab_type": "code",
        "outputId": "2aa8e835-cd61-4568-f9c0-8e243d3d57fe",
        "colab": {
          "base_uri": "https://localhost:8080/",
          "height": 51
        }
      },
      "source": [
        "pipeline_random = make_pipeline(\n",
        "    ce.OrdinalEncoder(), \n",
        "    SimpleImputer(strategy='mean'), \n",
        "    RandomForestClassifier(n_estimators=350, min_samples_leaf=3, n_jobs=-1, random_state=42, \n",
        "                          max_features=12,oob_score=True))\n",
        "pipeline_random.fit(X_train, y_train)\n",
        "print('Train Accuracy', pipeline_random.score(X_train, y_train))\n",
        "print('Validation Accuracy', pipeline_random.score(X_val, y_val))"
      ],
      "execution_count": 0,
      "outputs": [
        {
          "output_type": "stream",
          "text": [
            "Train Accuracy 0.9852025716909889\n",
            "Validation Accuracy 0.6444897959183673\n"
          ],
          "name": "stdout"
        }
      ]
    },
    {
      "cell_type": "markdown",
      "metadata": {
        "colab_type": "text",
        "id": "8kJXxFpty_CH"
      },
      "source": [
        "## 6.Get your model's validation accuracy\n",
        "\n",
        "> (Multiple times if you try multiple iterations.)"
      ]
    },
    {
      "cell_type": "code",
      "metadata": {
        "colab_type": "code",
        "id": "7560JKvxy_CJ",
        "outputId": "fd7bc4fa-1185-4dd8-e5bd-d8dc53d393cc",
        "colab": {
          "base_uri": "https://localhost:8080/",
          "height": 51
        }
      },
      "source": [
        "print('Train Accuracy using Random Forest', pipeline_random.score(X_train, y_train))\n",
        "print('Validation Accuracy using Random Forest', pipeline_random.score(X_val, y_val))"
      ],
      "execution_count": 0,
      "outputs": [
        {
          "output_type": "stream",
          "text": [
            "Train Accuracy using Random Forest 0.9852025716909889\n",
            "Validation Accuracy using Random Forest 0.6444897959183673\n"
          ],
          "name": "stdout"
        }
      ]
    },
    {
      "cell_type": "markdown",
      "metadata": {
        "colab_type": "text",
        "id": "YvyYY9tfy_CL"
      },
      "source": [
        "## 7. Get your model's test accuracy\n",
        "\n",
        "> (One time, at the end.)"
      ]
    },
    {
      "cell_type": "code",
      "metadata": {
        "colab_type": "code",
        "id": "wjV2dfl6y_CL",
        "outputId": "12b01089-c35f-4a44-a6d0-0cd789a181c2",
        "colab": {
          "base_uri": "https://localhost:8080/",
          "height": 360
        }
      },
      "source": [
        "X_test=test.drop('shot_made_flag', axis =1)\n",
        "print(X_test.shape,y_test.shape)\n",
        "X_test.head()"
      ],
      "execution_count": 0,
      "outputs": [
        {
          "output_type": "stream",
          "text": [
            "(1709, 24) (1709,)\n"
          ],
          "name": "stdout"
        },
        {
          "output_type": "execute_result",
          "data": {
            "text/html": [
              "<div>\n",
              "<style scoped>\n",
              "    .dataframe tbody tr th:only-of-type {\n",
              "        vertical-align: middle;\n",
              "    }\n",
              "\n",
              "    .dataframe tbody tr th {\n",
              "        vertical-align: top;\n",
              "    }\n",
              "\n",
              "    .dataframe thead th {\n",
              "        text-align: right;\n",
              "    }\n",
              "</style>\n",
              "<table border=\"1\" class=\"dataframe\">\n",
              "  <thead>\n",
              "    <tr style=\"text-align: right;\">\n",
              "      <th></th>\n",
              "      <th>game_id</th>\n",
              "      <th>game_event_id</th>\n",
              "      <th>player_name</th>\n",
              "      <th>period</th>\n",
              "      <th>minutes_remaining</th>\n",
              "      <th>seconds_remaining</th>\n",
              "      <th>action_type</th>\n",
              "      <th>shot_type</th>\n",
              "      <th>shot_zone_basic</th>\n",
              "      <th>shot_zone_area</th>\n",
              "      <th>shot_zone_range</th>\n",
              "      <th>shot_distance</th>\n",
              "      <th>loc_x</th>\n",
              "      <th>loc_y</th>\n",
              "      <th>htm</th>\n",
              "      <th>vtm</th>\n",
              "      <th>season_type</th>\n",
              "      <th>scoremargin_before_shot</th>\n",
              "      <th>total_remaining_period</th>\n",
              "      <th>total_remaining_game</th>\n",
              "      <th>homecourt_advantage</th>\n",
              "      <th>year_game</th>\n",
              "      <th>month_game</th>\n",
              "      <th>day_game</th>\n",
              "    </tr>\n",
              "  </thead>\n",
              "  <tbody>\n",
              "    <tr>\n",
              "      <th>12249</th>\n",
              "      <td>21800002</td>\n",
              "      <td>10</td>\n",
              "      <td>Stephen Curry</td>\n",
              "      <td>1</td>\n",
              "      <td>11</td>\n",
              "      <td>31</td>\n",
              "      <td>Step Back Jump shot</td>\n",
              "      <td>3PT Field Goal</td>\n",
              "      <td>Above the Break 3</td>\n",
              "      <td>Right Side Center(RC)</td>\n",
              "      <td>24+ ft.</td>\n",
              "      <td>24</td>\n",
              "      <td>226</td>\n",
              "      <td>90</td>\n",
              "      <td>GSW</td>\n",
              "      <td>OKC</td>\n",
              "      <td>Regular Season</td>\n",
              "      <td>0.0</td>\n",
              "      <td>691</td>\n",
              "      <td>-685</td>\n",
              "      <td>Advantage</td>\n",
              "      <td>2018</td>\n",
              "      <td>10</td>\n",
              "      <td>16</td>\n",
              "    </tr>\n",
              "    <tr>\n",
              "      <th>12250</th>\n",
              "      <td>21800002</td>\n",
              "      <td>58</td>\n",
              "      <td>Stephen Curry</td>\n",
              "      <td>1</td>\n",
              "      <td>7</td>\n",
              "      <td>57</td>\n",
              "      <td>Driving Floating Jump Shot</td>\n",
              "      <td>2PT Field Goal</td>\n",
              "      <td>In The Paint (Non-RA)</td>\n",
              "      <td>Center(C)</td>\n",
              "      <td>Less Than 8 ft.</td>\n",
              "      <td>6</td>\n",
              "      <td>-2</td>\n",
              "      <td>63</td>\n",
              "      <td>GSW</td>\n",
              "      <td>OKC</td>\n",
              "      <td>Regular Season</td>\n",
              "      <td>4.0</td>\n",
              "      <td>477</td>\n",
              "      <td>-659</td>\n",
              "      <td>Advantage</td>\n",
              "      <td>2018</td>\n",
              "      <td>10</td>\n",
              "      <td>16</td>\n",
              "    </tr>\n",
              "    <tr>\n",
              "      <th>12251</th>\n",
              "      <td>21800002</td>\n",
              "      <td>131</td>\n",
              "      <td>Stephen Curry</td>\n",
              "      <td>1</td>\n",
              "      <td>3</td>\n",
              "      <td>46</td>\n",
              "      <td>Driving Layup Shot</td>\n",
              "      <td>2PT Field Goal</td>\n",
              "      <td>Restricted Area</td>\n",
              "      <td>Center(C)</td>\n",
              "      <td>Less Than 8 ft.</td>\n",
              "      <td>2</td>\n",
              "      <td>5</td>\n",
              "      <td>29</td>\n",
              "      <td>GSW</td>\n",
              "      <td>OKC</td>\n",
              "      <td>Regular Season</td>\n",
              "      <td>4.0</td>\n",
              "      <td>226</td>\n",
              "      <td>-670</td>\n",
              "      <td>Advantage</td>\n",
              "      <td>2018</td>\n",
              "      <td>10</td>\n",
              "      <td>16</td>\n",
              "    </tr>\n",
              "    <tr>\n",
              "      <th>12252</th>\n",
              "      <td>21800002</td>\n",
              "      <td>141</td>\n",
              "      <td>Stephen Curry</td>\n",
              "      <td>1</td>\n",
              "      <td>2</td>\n",
              "      <td>58</td>\n",
              "      <td>Driving Reverse Layup Shot</td>\n",
              "      <td>2PT Field Goal</td>\n",
              "      <td>Restricted Area</td>\n",
              "      <td>Center(C)</td>\n",
              "      <td>Less Than 8 ft.</td>\n",
              "      <td>1</td>\n",
              "      <td>-6</td>\n",
              "      <td>18</td>\n",
              "      <td>GSW</td>\n",
              "      <td>OKC</td>\n",
              "      <td>Regular Season</td>\n",
              "      <td>7.0</td>\n",
              "      <td>178</td>\n",
              "      <td>-658</td>\n",
              "      <td>Advantage</td>\n",
              "      <td>2018</td>\n",
              "      <td>10</td>\n",
              "      <td>16</td>\n",
              "    </tr>\n",
              "    <tr>\n",
              "      <th>12253</th>\n",
              "      <td>21800002</td>\n",
              "      <td>145</td>\n",
              "      <td>Stephen Curry</td>\n",
              "      <td>1</td>\n",
              "      <td>2</td>\n",
              "      <td>49</td>\n",
              "      <td>Jump Shot</td>\n",
              "      <td>3PT Field Goal</td>\n",
              "      <td>Left Corner 3</td>\n",
              "      <td>Left Side(L)</td>\n",
              "      <td>24+ ft.</td>\n",
              "      <td>22</td>\n",
              "      <td>-228</td>\n",
              "      <td>8</td>\n",
              "      <td>GSW</td>\n",
              "      <td>OKC</td>\n",
              "      <td>Regular Season</td>\n",
              "      <td>7.0</td>\n",
              "      <td>169</td>\n",
              "      <td>-667</td>\n",
              "      <td>Advantage</td>\n",
              "      <td>2018</td>\n",
              "      <td>10</td>\n",
              "      <td>16</td>\n",
              "    </tr>\n",
              "  </tbody>\n",
              "</table>\n",
              "</div>"
            ],
            "text/plain": [
              "        game_id  game_event_id    player_name  ...  year_game  month_game  day_game\n",
              "12249  21800002             10  Stephen Curry  ...       2018          10        16\n",
              "12250  21800002             58  Stephen Curry  ...       2018          10        16\n",
              "12251  21800002            131  Stephen Curry  ...       2018          10        16\n",
              "12252  21800002            141  Stephen Curry  ...       2018          10        16\n",
              "12253  21800002            145  Stephen Curry  ...       2018          10        16\n",
              "\n",
              "[5 rows x 24 columns]"
            ]
          },
          "metadata": {
            "tags": []
          },
          "execution_count": 82
        }
      ]
    },
    {
      "cell_type": "code",
      "metadata": {
        "id": "mOnVXEXqiyDv",
        "colab_type": "code",
        "outputId": "4a7c53c5-1daa-41f5-9dcd-370a571dd746",
        "colab": {
          "base_uri": "https://localhost:8080/",
          "height": 34
        }
      },
      "source": [
        "y_pred = pipeline_random.predict(X_test)\n",
        "print('Validation Accuracy', accuracy_score(y_pred, y_test))"
      ],
      "execution_count": 0,
      "outputs": [
        {
          "output_type": "stream",
          "text": [
            "Validation Accuracy 0.6021064950263312\n"
          ],
          "name": "stdout"
        }
      ]
    },
    {
      "cell_type": "markdown",
      "metadata": {
        "id": "xGL5stLvJCn1",
        "colab_type": "text"
      },
      "source": [
        "## 8. Given a confusion matrix, calculate accuracy, precision, and recall.\n",
        "\n",
        "Imagine this is the confusion matrix for a binary classification model. Use the confusion matrix to calculate the model's accuracy, precision, and recall.\n",
        "\n",
        "<table>\n",
        "  <tr>\n",
        "    <td colspan=\"2\" rowspan=\"2\"></td>\n",
        "    <td colspan=\"2\">Predicted</td>\n",
        "  </tr>\n",
        "  <tr>\n",
        "    <td>Negative</td>\n",
        "    <td>Positive</td>\n",
        "  </tr>\n",
        "  <tr>\n",
        "    <td rowspan=\"2\">Actual</td>\n",
        "    <td>Negative</td>\n",
        "    <td style=\"border: solid\">85</td>\n",
        "    <td style=\"border: solid\">58</td>\n",
        "  </tr>\n",
        "  <tr>\n",
        "    <td>Positive</td>\n",
        "    <td style=\"border: solid\">8</td>\n",
        "    <td style=\"border: solid\"> 36</td>\n",
        "  </tr>\n",
        "</table>"
      ]
    },
    {
      "cell_type": "markdown",
      "metadata": {
        "id": "nEvt7NkUJNao",
        "colab_type": "text"
      },
      "source": [
        "### Calculate accuracy "
      ]
    },
    {
      "cell_type": "code",
      "metadata": {
        "id": "FFszS2A5JJmv",
        "colab_type": "code",
        "colab": {}
      },
      "source": [
        "correct_pred=85+36 #correct predictions"
      ],
      "execution_count": 0,
      "outputs": []
    },
    {
      "cell_type": "code",
      "metadata": {
        "id": "vwR3cRhci4YB",
        "colab_type": "code",
        "colab": {}
      },
      "source": [
        "total_pred=85+58+8+36 #total of predictions"
      ],
      "execution_count": 0,
      "outputs": []
    },
    {
      "cell_type": "code",
      "metadata": {
        "id": "f_Gys_Jii6DT",
        "colab_type": "code",
        "outputId": "2ec630fe-b98f-440d-a6e0-8413bcb20ad7",
        "colab": {
          "base_uri": "https://localhost:8080/",
          "height": 34
        }
      },
      "source": [
        "accuracy_confusion_matrix=correct_pred/total_pred\n",
        "accuracy_confusion_matrix"
      ],
      "execution_count": 0,
      "outputs": [
        {
          "output_type": "execute_result",
          "data": {
            "text/plain": [
              "0.6470588235294118"
            ]
          },
          "metadata": {
            "tags": []
          },
          "execution_count": 86
        }
      ]
    },
    {
      "cell_type": "markdown",
      "metadata": {
        "id": "XjHTmk8sJO4v",
        "colab_type": "text"
      },
      "source": [
        "### Calculate precision"
      ]
    },
    {
      "cell_type": "code",
      "metadata": {
        "id": "7qX1gbcMJQS_",
        "colab_type": "code",
        "colab": {}
      },
      "source": [
        "correct_for_class=36\n",
        "total_class=58+36"
      ],
      "execution_count": 0,
      "outputs": []
    },
    {
      "cell_type": "code",
      "metadata": {
        "id": "9L1svI19i-yq",
        "colab_type": "code",
        "outputId": "4fe54df8-ef41-4c7a-c9b1-d31138d286da",
        "colab": {
          "base_uri": "https://localhost:8080/",
          "height": 34
        }
      },
      "source": [
        "precision_positive= correct_for_class/total_class\n",
        "precision_positive"
      ],
      "execution_count": 0,
      "outputs": [
        {
          "output_type": "execute_result",
          "data": {
            "text/plain": [
              "0.3829787234042553"
            ]
          },
          "metadata": {
            "tags": []
          },
          "execution_count": 88
        }
      ]
    },
    {
      "cell_type": "markdown",
      "metadata": {
        "id": "pFug3ZKaJQ7A",
        "colab_type": "text"
      },
      "source": [
        "### Calculate recall"
      ]
    },
    {
      "cell_type": "code",
      "metadata": {
        "id": "L0OKc3JxJR4r",
        "colab_type": "code",
        "colab": {}
      },
      "source": [
        "actual_for_class=8+36"
      ],
      "execution_count": 0,
      "outputs": []
    },
    {
      "cell_type": "code",
      "metadata": {
        "id": "aOMDuxNyjDJS",
        "colab_type": "code",
        "outputId": "bddde5ec-9655-4fe5-b1e1-16b0d6c92c09",
        "colab": {
          "base_uri": "https://localhost:8080/",
          "height": 34
        }
      },
      "source": [
        "Recall_positive= correct_for_class/actual_for_class\n",
        "Recall_positive"
      ],
      "execution_count": 0,
      "outputs": [
        {
          "output_type": "execute_result",
          "data": {
            "text/plain": [
              "0.8181818181818182"
            ]
          },
          "metadata": {
            "tags": []
          },
          "execution_count": 90
        }
      ]
    }
  ]
}